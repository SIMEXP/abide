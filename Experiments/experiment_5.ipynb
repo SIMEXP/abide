{
 "metadata": {
  "name": "",
  "signature": "sha256:9530b651165b9c702b992d286a9c92d27ef8a39d92d964dceb10119e204be0ca"
 },
 "nbformat": 3,
 "nbformat_minor": 0,
 "worksheets": [
  {
   "cells": [
    {
     "cell_type": "heading",
     "level": 1,
     "metadata": {},
     "source": [
      "Experiment 5"
     ]
    },
    {
     "cell_type": "markdown",
     "metadata": {},
     "source": [
      "The purpose of this experiment is to quickly look through data to get an idea for the things I am dealing with\n",
      "\n",
      "Here are the investigations I want to make:\n",
      "1. What do individual clusters maps look like? "
     ]
    },
    {
     "cell_type": "code",
     "collapsed": false,
     "input": [
      "import os\n",
      "import re\n",
      "import copy\n",
      "import numpy as np\n",
      "import pandas as pd\n",
      "import brainbox as bb"
     ],
     "language": "python",
     "metadata": {},
     "outputs": [],
     "prompt_number": 2
    },
    {
     "cell_type": "code",
     "collapsed": false,
     "input": [
      "# Paths\n",
      "metric = 'stability_maps'\n",
      "method = 'correlation'\n",
      "scale = 12\n",
      "in_path = '/data1/abide/Out/Remote/all_worked/out/sc12'\n",
      "out_path = '/data1/abide/Out/Remote/all_worked/out/maps/{}/{}/scale_{}'.format(metric, method, scale)\n",
      "out_name = 'nondupl_linkage_scale{}_{}_{}.gz'.format(scale, metric, method)\n",
      "out_file = os.path.join(out_path, out_name)\n",
      "if not os.path.isdir(out_path):\n",
      "    try:\n",
      "        os.makedirs(out_path)\n",
      "    except OSError as exc: # Python >2.5\n",
      "        if exc.errno == errno.EEXIST and os.path.isdir(out_path):\n",
      "            pass\n",
      "        else: raise\n",
      "\n",
      "ta_path = '/home/surchs/Project/abide/pheno/pheno_full.csv'\n",
      "ext = '.nii.gz'\n",
      "\n",
      "pheno = pd.read_csv(ta_path)\n",
      "targets = pheno['SUB_ID'].values\n",
      "file_dict = bb.fileOps.find_files(in_path, ext, targets, sub=metric)\n",
      "num_subs = len(file_dict['path'])"
     ],
     "language": "python",
     "metadata": {},
     "outputs": [],
     "prompt_number": 3
    }
   ],
   "metadata": {}
  }
 ]
}