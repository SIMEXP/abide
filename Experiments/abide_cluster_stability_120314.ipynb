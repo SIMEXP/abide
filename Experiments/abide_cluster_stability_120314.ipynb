{
 "metadata": {
  "name": "",
  "signature": "sha256:259af40c1be85d76603b04844f7fc2032b19abfceb8afe749d2d55f01ad8f877"
 },
 "nbformat": 3,
 "nbformat_minor": 0,
 "worksheets": [
  {
   "cells": [
    {
     "cell_type": "code",
     "collapsed": false,
     "input": [],
     "language": "python",
     "metadata": {},
     "outputs": [],
     "prompt_number": 0
    },
    {
     "cell_type": "code",
     "collapsed": false,
     "input": [
      "# Imports\n",
      "import re\n",
      "import os\n",
      "import copy\n",
      "import gzip\n",
      "import numpy as np\n",
      "import pandas as pd\n",
      "import cPickle as cp\n",
      "import brainbox as bb\n",
      "import multiprocessing as mp\n",
      "from scipy import stats as st\n",
      "from matplotlib import pyplot as plt\n",
      "import scipy.cluster.hierarchy as clh\n",
      "from mpl_toolkits.axes_grid1 import make_axes_locatable"
     ],
     "language": "python",
     "metadata": {},
     "outputs": [],
     "prompt_number": 2
    },
    {
     "cell_type": "code",
     "collapsed": false,
     "input": [],
     "language": "python",
     "metadata": {},
     "outputs": [],
     "prompt_number": 2
    },
    {
     "cell_type": "code",
     "collapsed": false,
     "input": [
      "# Paths\n",
      "in_path = '/data1/abide/Out/Remote/some_failed/out/'\n",
      "out_path = '/data1/abide/Test'\n",
      "out_name = 'nondupl_linkage.gz'\n",
      "if not os.path.isdir(out_path):\n",
      "    try:\n",
      "        os.makedirs(out_path)\n",
      "    except OSError as exc: # Python >2.5\n",
      "        if exc.errno == errno.EEXIST and os.path.isdir(out_path):\n",
      "            pass\n",
      "        else: raise\n",
      "\n",
      "metric = 'stability_maps'\n",
      "file_dict = bb.fileOps.grab_files(in_path, '.nii.gz', metric)"
     ],
     "language": "python",
     "metadata": {},
     "outputs": [
      {
       "output_type": "stream",
       "stream": "stdout",
       "text": [
        "I will be pulling files from /data1/abide/Out/Remote/some_failed/out/stability_maps\n"
       ]
      }
     ],
     "prompt_number": 3
    },
    {
     "cell_type": "code",
     "collapsed": false,
     "input": [
      "# Duplicate dropper\n",
      "def drop_duplicates(in_dict):\n",
      "    \"\"\"\n",
      "    Because python uses pointers and does not copy the variables\n",
      "    I can operate directly on the dictionary and change it in place\n",
      "    \"\"\"\n",
      "    cp_dict = copy.deepcopy(in_dict)\n",
      "    subs = cp_dict['sub_name']\n",
      "    dirs = cp_dict['dir']\n",
      "    path = cp_dict['path']\n",
      "    drop = list()\n",
      "    present = list()\n",
      "    sub_names = np.array([int64(re.search(r'(?<=\\d{2})\\d{5}', sub_id).group()) for sub_id in cp_dict['sub_name']])\n",
      "    for idx, sub in enumerate(sub_names):\n",
      "        if not sub in present:\n",
      "            present.append(sub)\n",
      "        else:\n",
      "            drop.append(idx)\n",
      "    print('Found {} items to drop'.format(len(drop)))\n",
      "    # Pop them in reverse order\n",
      "    for idx in drop[::-1]:\n",
      "        subs.pop(idx)\n",
      "        dirs.pop(idx)\n",
      "        path.pop(idx)\n",
      "    \n",
      "    return cp_dict"
     ],
     "language": "python",
     "metadata": {},
     "outputs": [],
     "prompt_number": 4
    },
    {
     "cell_type": "code",
     "collapsed": false,
     "input": [],
     "language": "python",
     "metadata": {},
     "outputs": []
    }
   ],
   "metadata": {}
  }
 ]
}