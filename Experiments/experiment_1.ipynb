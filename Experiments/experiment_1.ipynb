{
 "metadata": {
  "name": "",
  "signature": "sha256:977eddbf1169db1b7d0304150e7596b35daf02af64394b90943056e54578fd54"
 },
 "nbformat": 3,
 "nbformat_minor": 0,
 "worksheets": [
  {
   "cells": [
    {
     "cell_type": "heading",
     "level": 1,
     "metadata": {},
     "source": [
      "Experiment 1"
     ]
    },
    {
     "cell_type": "markdown",
     "metadata": {},
     "source": [
      "The goal of this experiment is to investigate the variance in the preprocessed data. I will investigate the different metrics regarding std and binarized count\n",
      "1. Generate 4D stacks of all subjects for a given template network so I can flip through them\n",
      "2. Generate mean and std maps across all subjects for all networks\n",
      "3. Make a 4D stack of the template networks for comparison"
     ]
    },
    {
     "cell_type": "code",
     "collapsed": false,
     "input": [
      "import os\n",
      "import re\n",
      "import copy\n",
      "import numpy as np\n",
      "import pandas as pd\n",
      "import nibabel as nib\n",
      "import brainbox as bb\n",
      "import multiprocessing as mp\n",
      "from matplotlib import pyplot as plt"
     ],
     "language": "python",
     "metadata": {},
     "outputs": [],
     "prompt_number": 1
    },
    {
     "cell_type": "code",
     "collapsed": false,
     "input": [
      "# Paths\n",
      "metric = 'dual_regression'\n",
      "method = 'correlation'\n",
      "scale = 12\n",
      "in_path = '/data1/abide/Out/Remote/all_worked/out/sc12'\n",
      "out_path = '/data1/abide/Out/Remote/all_worked/out/maps/{}/{}/scale_{}'.format(metric, method, scale)\n",
      "out_name = 'nondupl_linkage_scale{}_{}_{}.gz'.format(scale, metric, method)\n",
      "out_file = os.path.join(out_path, out_name)\n",
      "if not os.path.isdir(out_path):\n",
      "    try:\n",
      "        os.makedirs(out_path)\n",
      "    except OSError as exc: # Python >2.5\n",
      "        if exc.errno == errno.EEXIST and os.path.isdir(out_path):\n",
      "            pass\n",
      "        else: raise\n",
      "\n",
      "ta_path = '/home/surchs/Project/abide/pheno/pheno_full.csv'\n",
      "ext = '.nii.gz'\n",
      "\n",
      "pheno = pd.read_csv(ta_path)\n",
      "targets = pheno['SUB_ID'].values\n",
      "file_dict = bb.fileOps.find_files(in_path, ext, targets, sub=metric)\n",
      "num_subs = len(file_dict['path'])\n",
      "data_subs = np.array([int(re.search(r'(?<=\\d{2})\\d{5}', sub_id).group()) for sub_id in file_dict['sub_name']])"
     ],
     "language": "python",
     "metadata": {},
     "outputs": [],
     "prompt_number": 5
    },
    {
     "cell_type": "code",
     "collapsed": false,
     "input": [
      "data_subs"
     ],
     "language": "python",
     "metadata": {},
     "outputs": [
      {
       "metadata": {},
       "output_type": "pyout",
       "prompt_number": 6,
       "text": [
        "array([51456, 51457, 51458, 51459, 51460, 51461, 51462, 51463, 51464,\n",
        "       51465, 51466, 51467, 51468, 51469, 51470, 51471, 51472, 51473,\n",
        "       51474, 51475, 51476, 51477, 51478, 51479, 51480, 51481, 51482,\n",
        "       51483, 51484, 51485, 51486, 51487, 51488, 51489, 51490, 51491,\n",
        "       51492, 51493, 50642, 50643, 50644, 50645, 50646, 50647, 50648,\n",
        "       50649, 50650, 50651, 50652, 50653, 50654, 50655, 50656, 50657,\n",
        "       50658, 50659, 50660, 50661, 50663, 50664, 50665, 50666, 50667,\n",
        "       50668, 50669, 50772, 50773, 50774, 50775, 50776, 50777, 50778,\n",
        "       50779, 50780, 50781, 50782, 50783, 50784, 50785, 50786, 50787,\n",
        "       50788, 50789, 50790, 50791, 50792, 50793, 50794, 50795, 50796,\n",
        "       50797, 50798, 50799, 50800, 50801, 50802, 50803, 50804, 50805,\n",
        "       50806, 50807, 50808, 50809, 50810, 50811, 50812, 50813, 50814,\n",
        "       50815, 50816, 50817, 50818, 50819, 50820, 50821, 50822, 50823,\n",
        "       50824, 50825, 50826, 50682, 50683, 50685, 50686, 50687, 50688,\n",
        "       50689, 50690, 50691, 50692, 50693, 50694, 50695, 50696, 50697,\n",
        "       50698, 50699, 50700, 50701, 50702, 50703, 50704, 50705, 50706,\n",
        "       50707, 50708, 50709, 50710, 50711, 50722, 50723, 50724, 50725,\n",
        "       50726, 50727, 50728, 50730, 50731, 50732, 50733, 50734, 50735,\n",
        "       50736, 50737, 50738, 50739, 50740, 50741, 50742, 50743, 50744,\n",
        "       50745, 50746, 50747, 50748, 50749, 50750, 50751, 50752, 50753,\n",
        "       50754, 50755, 50756, 50757, 51606, 51607, 51318, 51319, 51320,\n",
        "       51321, 51322, 51323, 51324, 51325, 51326, 51327, 51328, 51329,\n",
        "       51330, 51331, 51332, 51333, 51334, 51335, 51336, 51338, 51339,\n",
        "       51340, 51341, 51342, 51343, 51344, 51345, 51346, 51347, 51348,\n",
        "       51349, 51350, 51351, 51352, 51353, 51354, 51355, 51356, 51357,\n",
        "       51358, 51359, 51360, 51361, 51362, 51363, 51364, 51365, 51366,\n",
        "       51367, 51368, 51369, 51370, 51371, 51372, 51373, 50952, 50953,\n",
        "       50954, 50955, 50956, 50957, 50958, 50959, 50960, 50961, 50962,\n",
        "       50964, 50965, 50966, 50967, 50968, 50969, 50970, 50971, 50972,\n",
        "       50973, 50974, 50975, 50976, 50977, 50978, 50979, 50980, 50981,\n",
        "       50982, 50983, 50984, 50985, 50986, 50987, 50988, 50989, 50990,\n",
        "       50991, 50992, 50993, 50994, 50995, 50996, 50997, 50998, 50999,\n",
        "       51000, 51001, 51002, 51003, 51006, 51007, 51008, 51009, 51010,\n",
        "       51011, 51012, 51013, 51014, 51015, 51016, 51017, 51018, 51019,\n",
        "       51020, 51021, 51023, 51024, 51025, 51026, 51027, 51028, 51029,\n",
        "       51030, 51032, 51033, 51034, 51035, 51036, 51038, 51039, 51040,\n",
        "       51041, 51042, 51044, 51045, 51046, 51047, 51048, 51049, 51050,\n",
        "       51051, 51052, 51053, 51054, 51055, 51056, 51057, 51058, 51059,\n",
        "       51060, 51061, 51062, 51063, 51064, 51065, 51066, 51067, 51068,\n",
        "       51069, 51070, 51071, 51072, 51073, 51074, 51075, 51076, 51077,\n",
        "       51078, 51079, 51080, 51081, 51082, 51083, 51084, 51085, 51086,\n",
        "       51087, 51088, 51089, 51090, 51091, 51093, 51094, 51095, 51096,\n",
        "       51097, 51098, 51099, 51100, 51101, 51102, 51103, 51104, 51105,\n",
        "       51106, 51107, 51108, 51109, 51110, 51111, 51112, 51113, 51114,\n",
        "       51115, 51116, 51117, 51118, 51119, 51120, 51121, 51122, 51123,\n",
        "       51124, 51125, 51126, 51127, 51128, 51129, 51130, 51131, 51146,\n",
        "       51147, 51148, 51149, 51150, 51151, 51152, 51153, 51154, 51155,\n",
        "       51156, 51159, 50142, 50143, 50144, 50145, 50146, 50147, 50148,\n",
        "       50149, 50150, 50152, 50153, 50155, 50156, 50157, 50158, 50159,\n",
        "       50160, 50161, 50162, 50163, 50164, 50165, 50166, 50167, 50168,\n",
        "       50169, 50170, 50171, 50135, 50122, 50129, 50118, 50123, 50136,\n",
        "       50134, 50126, 50124, 50133, 50121, 50137, 50120, 50132, 50128,\n",
        "       50127, 50125, 50130, 50119, 50131, 50105, 50116, 50113, 50104,\n",
        "       50103, 50111, 50109, 50102, 50117, 50115, 50110, 50114, 50106,\n",
        "       50107, 50112, 50108, 50002, 50003, 50004, 50005, 50006, 50007,\n",
        "       50008, 50009, 50010, 50011, 50012, 50013, 50014, 50015, 50016,\n",
        "       50017, 50019, 50020, 50022, 50023, 50024, 50025, 50026, 50027,\n",
        "       50028, 50029, 50053, 50055, 50056, 50057, 50030, 50031, 50032,\n",
        "       50033, 50034, 50035, 50036, 50037, 50038, 50039, 50040, 50041,\n",
        "       50042, 50043, 50044, 50045, 50046, 50047, 50048, 50049, 50050,\n",
        "       50051, 50052, 50054, 50058, 50059, 50060, 51556, 51557, 51558,\n",
        "       51559, 51560, 51561, 51562, 51563, 51564, 51565, 51566, 51567,\n",
        "       51568, 51569, 51570, 51571, 51572, 51573, 51574, 51575, 51576,\n",
        "       51577, 51578, 51579, 51580, 51581, 51582, 51583, 51584, 51585,\n",
        "       50182, 50183, 50184, 50185, 50186, 50187, 50188, 50189, 50190,\n",
        "       50191, 50192, 50193, 50194, 50195, 50196, 50197, 50198, 50199,\n",
        "       50200, 50201, 50202, 50203, 50204, 50205, 50206, 50207, 50208,\n",
        "       50209, 50210, 50211, 50212, 50213, 50214, 50215, 50216, 50217,\n",
        "       51160, 51161, 51162, 51163, 51164, 51165, 51166, 51167, 51168,\n",
        "       51169, 51170, 51171, 51172, 51173, 51174, 51175, 51176, 51177,\n",
        "       51178, 51179, 51180, 51181, 51182, 51183, 51184, 51185, 51186,\n",
        "       51187, 51188, 51189, 51190, 51191, 51192, 51193, 51194, 51195,\n",
        "       51196, 51197, 51198, 51199, 50232, 50233, 50234, 50235, 50236,\n",
        "       50237, 50238, 50239, 50240, 50241, 50242, 50243, 50244, 50245,\n",
        "       50246, 50247, 50248, 50249, 50250, 50251, 50252, 50253, 50254,\n",
        "       50255, 50257, 50259, 50260, 50261, 50262, 50263, 50264, 50265,\n",
        "       50266, 50267, 50268, 50269, 50270, 50271, 51132, 51133, 51134,\n",
        "       51135, 51136, 51137, 51138, 51139, 51140, 51141, 51142, 51201,\n",
        "       51202, 51203, 51204, 51205, 51206, 51207, 51208, 51209, 51210,\n",
        "       51211, 51212, 51213, 51214, 51215, 51216, 51217, 51218, 51219,\n",
        "       51220, 51221, 51222, 51223, 51224, 51225, 51226, 51227, 51228,\n",
        "       51229, 51230, 51231, 51234, 51235, 51236, 51237, 51238, 51239,\n",
        "       51240, 51241, 51248, 51249, 51250, 51251, 51252, 51253, 51254,\n",
        "       51255, 51256, 51257, 51258, 51259, 51260, 51261, 51262, 51263,\n",
        "       51264, 51265, 51266, 51267, 51268, 51269, 51271, 51272, 51273,\n",
        "       51274, 51275, 51276, 51277, 51278, 51279, 51280, 51281, 51282,\n",
        "       51291, 51292, 51293, 51294, 51295, 51296, 51297, 51298, 51299,\n",
        "       51300, 51301, 51302, 51303, 51304, 51305, 51306, 51307, 51308,\n",
        "       51309, 51311, 51312, 51313, 51314, 51315, 51316, 51317, 50432,\n",
        "       50433, 50434, 50435, 50436, 50437, 50438, 50439, 50440, 50441,\n",
        "       50442, 50443, 50444, 50445, 50446, 50447, 50448, 50449, 50450,\n",
        "       50451, 50452, 50453, 50454, 50455, 50456, 50457, 50458, 50459,\n",
        "       50460, 50461, 50462, 50463, 50464, 50465, 50466, 50467, 50468,\n",
        "       50469, 50470, 50471, 50472, 50473, 50474, 50475, 50476, 50477,\n",
        "       50478, 50479, 50480, 50481, 50482, 50483, 50484, 50485, 50486,\n",
        "       50487, 50488, 50489, 50490, 50491, 50492, 50493, 50494, 50495,\n",
        "       50496, 50497, 50498, 50499, 50500, 50501, 50502, 50503, 50504,\n",
        "       50505, 50506, 50507, 50508, 50509, 50510, 50511, 50512, 50513,\n",
        "       50514, 50515, 50516, 50517, 50518, 50519, 50520, 50521, 50522,\n",
        "       50523, 50524, 50525, 50526, 50527, 50528, 50529, 50530, 50531, 50532])"
       ]
      }
     ],
     "prompt_number": 6
    },
    {
     "cell_type": "code",
     "collapsed": false,
     "input": [
      "def run_par(args):\n",
      "    \"\"\"\n",
      "    Wrapper function to do the loading and saving in parallel\n",
      "    \"\"\"\n",
      "    ds, num_subs, use_dict, tmp_i, out_path, net_id = args\n",
      "    \n",
      "    mean_mat = np.zeros(ds[:3] + (scale,))\n",
      "    std_mat = np.zeros(ds[:3] + (scale,))\n",
      "    \n",
      "    sub_stack = np.zeros(ds[:3] + (num_subs,))\n",
      "    for sub_id in np.arange(num_subs):\n",
      "        img = nib.load(use_dict['path'][sub_id])\n",
      "        data = img.get_data()\n",
      "        net = data[..., net_id]\n",
      "        sub_stack[..., sub_id] = net\n",
      "    # Save the network stack first\n",
      "    stack_out = nib.Nifti1Image(sub_stack, tmp_i.get_affine(), tmp_i.get_header())\n",
      "    nib.save(stack_out, os.path.join(out_path, 'netstack_net{}.nii.gz'.format(net_id + 1)))\n",
      "    # Get the mean and std\n",
      "    mean = np.mean(sub_stack, axis=3)\n",
      "    mean_mat[..., net_id] = mean\n",
      "    std = np.std(sub_stack, axis=3)\n",
      "    std_mat[..., net_id] = std\n",
      "    \n",
      "    return mean_mat, std_mat"
     ],
     "language": "python",
     "metadata": {},
     "outputs": [],
     "prompt_number": 6
    },
    {
     "cell_type": "code",
     "collapsed": false,
     "input": [
      "# Get a template\n",
      "tmp_i = nib.load(file_dict['path'][0])\n",
      "tmp = tmp_i.get_data()\n",
      "ds = tmp.shape\n",
      "\n",
      "# Set up the parallel processing\n",
      "p_perc = 0.9\n",
      "p_count = int(np.floor(mp.cpu_count() * p_perc))\n",
      "\n",
      "# Prepare the meta mats\n",
      "mean_mat = np.zeros(ds[:3] + (scale,))\n",
      "std_mat = np.zeros(ds[:3] + (scale,))\n",
      "arg_list = list()\n",
      "for net_id in np.arange(scale):\n",
      "    arg_list.append((ds, num_subs, file_dict, tmp_i, out_path, net_id))\n",
      "    \n",
      "# Run the stuff in parallel\n",
      "print('Running things in parallel now - for speed!')\n",
      "p = mp.Pool(p_count)\n",
      "results = p.map(run_par, arg_list)\n",
      "print('Done with that')"
     ],
     "language": "python",
     "metadata": {},
     "outputs": [
      {
       "output_type": "stream",
       "stream": "stdout",
       "text": [
        "Running things in parallel now - for speed!\n"
       ]
      },
      {
       "output_type": "stream",
       "stream": "stdout",
       "text": [
        "Done with that\n"
       ]
      }
     ],
     "prompt_number": 69
    },
    {
     "cell_type": "code",
     "collapsed": false,
     "input": [
      "for result in results:\n",
      "    mean_mat += result[0]\n",
      "    std_mat += result[1]\n",
      "\n",
      "# Save the mean and std maps\n",
      "print('Saving the mean and std files to {}'.format(out_path))\n",
      "mean_out = nib.Nifti1Image(mean_mat, tmp_i.get_affine(), tmp_i.get_header())\n",
      "nib.save(mean_out, os.path.join(out_path, 'mean_stack.nii.gz'))\n",
      "std_out = nib.Nifti1Image(std_mat, tmp_i.get_affine(), tmp_i.get_header())\n",
      "nib.save(std_out, os.path.join(out_path, 'std_stack.nii.gz'))"
     ],
     "language": "python",
     "metadata": {},
     "outputs": [
      {
       "output_type": "stream",
       "stream": "stdout",
       "text": [
        "Saving the mean and std files to /data1/abide/Out/Remote/all_worked/out/maps/dual_regression/correlation/scale_12\n"
       ]
      }
     ],
     "prompt_number": 70
    },
    {
     "cell_type": "code",
     "collapsed": false,
     "input": [
      "# Make a 4D stack of the template networks\n",
      "t_img = nib.load(template)\n",
      "t_data = t_img.get_data()\n",
      "t_out = np.zeros(t_data.shape + (scale,))\n",
      "for net_id in np.arange(scale):\n",
      "    tmp = np.zeros(t_data.shape)\n",
      "    tmp[t_data == net_id+1] = 1\n",
      "    t_out[..., net_id] = tmp\n",
      "    tmp_out = nib.Nifti1Image(tmp, t_img.get_affine(), t_img.get_header())\n",
      "    nib.save(tmp_out, os.path.join(out_path, 'template_net_{}.nii.gz'.format(net_id+1)))"
     ],
     "language": "python",
     "metadata": {},
     "outputs": [],
     "prompt_number": 7
    }
   ],
   "metadata": {}
  }
 ]
}