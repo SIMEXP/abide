{
 "cells": [
  {
   "cell_type": "markdown",
   "metadata": {},
   "source": [
    "# Overview of std and mean maps of the template"
   ]
  },
  {
   "cell_type": "markdown",
   "metadata": {},
   "source": [
    "- std\n",
    "- mean\n",
    "of each template network"
   ]
  },
  {
   "cell_type": "code",
   "execution_count": 6,
   "metadata": {
    "collapsed": false
   },
   "outputs": [],
   "source": [
    "import re\n",
    "import os\n",
    "import copy\n",
    "import gzip\n",
    "import numpy as np\n",
    "import pandas as pd\n",
    "import cPickle as cp\n",
    "import brainbox as bb\n",
    "import random  as rnd\n",
    "import nibabel as nib\n",
    "import multiprocessing as mp\n",
    "from scipy import stats as st\n",
    "from matplotlib import pyplot as plt\n",
    "import scipy.cluster.hierarchy as clh\n",
    "from mpl_toolkits.axes_grid1 import make_axes_locatable"
   ]
  },
  {
   "cell_type": "code",
   "execution_count": 7,
   "metadata": {
    "collapsed": false
   },
   "outputs": [],
   "source": [
    "# Duplicate dropper\n",
    "def drop_duplicates(in_dict):\n",
    "    \"\"\"\n",
    "    Because python uses pointers and does not copy the variables\n",
    "    I can operate directly on the dictionary and change it in place\n",
    "    \"\"\"\n",
    "    cp_dict = copy.deepcopy(in_dict)\n",
    "    subs = cp_dict['sub_name']\n",
    "    dirs = cp_dict['dir']\n",
    "    path = cp_dict['path']\n",
    "    drop = list()\n",
    "    present = list()\n",
    "    sub_names = np.array([int64(re.search(r'(?<=\\d{2})\\d{5}', sub_id).group()) for sub_id in cp_dict['sub_name']])\n",
    "    for idx, sub in enumerate(sub_names):\n",
    "        if not sub in present:\n",
    "            present.append(sub)\n",
    "        else:\n",
    "            drop.append(idx)\n",
    "    print('Found {} items to drop'.format(len(drop)))\n",
    "    # Pop them in reverse order\n",
    "    for idx in drop[::-1]:\n",
    "        subs.pop(idx)\n",
    "        dirs.pop(idx)\n",
    "        path.pop(idx)\n",
    "    \n",
    "    return cp_dict"
   ]
  },
  {
   "cell_type": "code",
   "execution_count": 8,
   "metadata": {
    "collapsed": false
   },
   "outputs": [
    {
     "ename": "StopIteration",
     "evalue": "",
     "output_type": "error",
     "traceback": [
      "\u001b[1;31m---------------------------------------------------------------------------\u001b[0m\n\u001b[1;31mStopIteration\u001b[0m                             Traceback (most recent call last)",
      "\u001b[1;32m<ipython-input-8-df0453441ea9>\u001b[0m in \u001b[0;36m<module>\u001b[1;34m()\u001b[0m\n\u001b[0;32m      6\u001b[0m \u001b[1;33m\u001b[0m\u001b[0m\n\u001b[0;32m      7\u001b[0m \u001b[0mmetric\u001b[0m \u001b[1;33m=\u001b[0m \u001b[1;34m'stability_maps'\u001b[0m\u001b[1;33m\u001b[0m\u001b[0m\n\u001b[1;32m----> 8\u001b[1;33m \u001b[0mfile_dict\u001b[0m \u001b[1;33m=\u001b[0m \u001b[0mbb\u001b[0m\u001b[1;33m.\u001b[0m\u001b[0mfileOps\u001b[0m\u001b[1;33m.\u001b[0m\u001b[0mgrab_files\u001b[0m\u001b[1;33m(\u001b[0m\u001b[0min_path\u001b[0m\u001b[1;33m,\u001b[0m \u001b[1;34m'.nii.gz'\u001b[0m\u001b[1;33m,\u001b[0m \u001b[0mmetric\u001b[0m\u001b[1;33m)\u001b[0m\u001b[1;33m\u001b[0m\u001b[0m\n\u001b[0m\u001b[0;32m      9\u001b[0m \u001b[1;31m# Get subject IDs of the files I just read in\u001b[0m\u001b[1;33m\u001b[0m\u001b[1;33m\u001b[0m\u001b[0m\n\u001b[0;32m     10\u001b[0m \u001b[0mfile_dict\u001b[0m \u001b[1;33m=\u001b[0m \u001b[0mdrop_duplicates\u001b[0m\u001b[1;33m(\u001b[0m\u001b[0mfile_dict\u001b[0m\u001b[1;33m)\u001b[0m\u001b[1;33m\u001b[0m\u001b[0m\n",
      "\u001b[1;32m/home/surchs/Code/brainbox/fileOps/base.pyc\u001b[0m in \u001b[0;36mgrab_files\u001b[1;34m(path, ext, sub, duplicates, match)\u001b[0m\n\u001b[0;32m     18\u001b[0m     \"\"\"\n\u001b[0;32m     19\u001b[0m     \u001b[1;31m# See if there are any subdirectories\u001b[0m\u001b[1;33m\u001b[0m\u001b[1;33m\u001b[0m\u001b[0m\n\u001b[1;32m---> 20\u001b[1;33m     \u001b[0msub_dirs\u001b[0m \u001b[1;33m=\u001b[0m \u001b[1;33m[\u001b[0m\u001b[0md\u001b[0m \u001b[1;32mfor\u001b[0m \u001b[0md\u001b[0m \u001b[1;32min\u001b[0m \u001b[0mos\u001b[0m\u001b[1;33m.\u001b[0m\u001b[0mwalk\u001b[0m\u001b[1;33m(\u001b[0m\u001b[0mpath\u001b[0m\u001b[1;33m)\u001b[0m\u001b[1;33m.\u001b[0m\u001b[0mnext\u001b[0m\u001b[1;33m(\u001b[0m\u001b[1;33m)\u001b[0m\u001b[1;33m[\u001b[0m\u001b[1;36m1\u001b[0m\u001b[1;33m]\u001b[0m\u001b[1;33m]\u001b[0m\u001b[1;33m\u001b[0m\u001b[0m\n\u001b[0m\u001b[0;32m     21\u001b[0m     \u001b[0mtmp\u001b[0m \u001b[1;33m=\u001b[0m \u001b[0mext\u001b[0m\u001b[1;33m.\u001b[0m\u001b[0mstrip\u001b[0m\u001b[1;33m(\u001b[0m\u001b[1;34m'*'\u001b[0m\u001b[1;33m)\u001b[0m\u001b[1;33m\u001b[0m\u001b[0m\n\u001b[0;32m     22\u001b[0m     \u001b[0mext\u001b[0m \u001b[1;33m=\u001b[0m \u001b[1;34m'*{}'\u001b[0m\u001b[1;33m.\u001b[0m\u001b[0mformat\u001b[0m\u001b[1;33m(\u001b[0m\u001b[0mext\u001b[0m\u001b[1;33m)\u001b[0m\u001b[1;33m\u001b[0m\u001b[0m\n",
      "\u001b[1;31mStopIteration\u001b[0m: "
     ]
    }
   ],
   "source": [
    "# Paths\n",
    "in_path = '/data1/abide/Out/Remote/all_worked/out/sc36/'\n",
    "in_part = '/data1/cambridge/cambridge_new/cambridge/out/stability_group_nii/sci10_scg12_scf12/brain_partition_consensus_group_sci10_scg12_scf12.nii.gz'\n",
    "out_path = '/data1/abide/Out/Remote/all_worked/out/maps/'\n",
    "scale = 36\n",
    "\n",
    "metric = 'stability_maps'\n",
    "file_dict = bb.fileOps.grab_files(in_path, '.nii.gz', metric)\n",
    "# Get subject IDs of the files I just read in\n",
    "file_dict = drop_duplicates(file_dict)\n",
    "data_subs = np.array([int64(re.search(r'(?<=\\d{2})\\d{5}', sub_id).group()) for sub_id in file_dict['sub_name']])"
   ]
  },
  {
   "cell_type": "code",
   "execution_count": null,
   "metadata": {
    "collapsed": false
   },
   "outputs": [],
   "source": [
    "# get a reference image\n",
    "ref_path = file_dict['path'][0]\n",
    "img = nib.load(ref_path)\n",
    "data = img.get_data()\n",
    "ref_shape = data.shape\n",
    "n_subs = len(data_subs)\n",
    "# get the reference partition\n",
    "pimg = nib.load(in_part)\n",
    "pdata = pimg.get_data()"
   ]
  },
  {
   "cell_type": "markdown",
   "metadata": {},
   "source": [
    "# Now go through the networks and make those maps"
   ]
  },
  {
   "cell_type": "code",
   "execution_count": 1,
   "metadata": {
    "collapsed": false
   },
   "outputs": [
    {
     "name": "stdout",
     "output_type": "stream",
     "text": [
      "running network 0 now\n"
     ]
    },
    {
     "ename": "NameError",
     "evalue": "name 'ref_shape' is not defined",
     "output_type": "error",
     "traceback": [
      "\u001b[1;31m---------------------------------------------------------------------------\u001b[0m\n\u001b[1;31mNameError\u001b[0m                                 Traceback (most recent call last)",
      "\u001b[1;32m<ipython-input-1-c6817c651001>\u001b[0m in \u001b[0;36m<module>\u001b[1;34m()\u001b[0m\n\u001b[0;32m      3\u001b[0m \u001b[1;32mfor\u001b[0m \u001b[0mnetwork\u001b[0m \u001b[1;32min\u001b[0m \u001b[0mnp\u001b[0m\u001b[1;33m.\u001b[0m\u001b[0marange\u001b[0m\u001b[1;33m(\u001b[0m\u001b[1;36m12\u001b[0m\u001b[1;33m)\u001b[0m\u001b[1;33m:\u001b[0m\u001b[1;33m\u001b[0m\u001b[0m\n\u001b[0;32m      4\u001b[0m     \u001b[1;32mprint\u001b[0m\u001b[1;33m(\u001b[0m\u001b[1;34m'running network {} now'\u001b[0m\u001b[1;33m.\u001b[0m\u001b[0mformat\u001b[0m\u001b[1;33m(\u001b[0m\u001b[0mnetwork\u001b[0m\u001b[1;33m)\u001b[0m\u001b[1;33m)\u001b[0m\u001b[1;33m\u001b[0m\u001b[0m\n\u001b[1;32m----> 5\u001b[1;33m     \u001b[0mnet_data\u001b[0m \u001b[1;33m=\u001b[0m \u001b[0mnp\u001b[0m\u001b[1;33m.\u001b[0m\u001b[0mzeros\u001b[0m\u001b[1;33m(\u001b[0m\u001b[1;33m(\u001b[0m\u001b[0mref_shape\u001b[0m\u001b[1;33m[\u001b[0m\u001b[1;33m:\u001b[0m\u001b[1;36m3\u001b[0m\u001b[1;33m]\u001b[0m \u001b[1;33m+\u001b[0m \u001b[1;33m(\u001b[0m\u001b[0mn_subs\u001b[0m\u001b[1;33m,\u001b[0m\u001b[1;33m)\u001b[0m\u001b[1;33m)\u001b[0m\u001b[1;33m)\u001b[0m\u001b[1;33m\u001b[0m\u001b[0m\n\u001b[0m\u001b[0;32m      6\u001b[0m     \u001b[1;32mfor\u001b[0m \u001b[0midx\u001b[0m\u001b[1;33m,\u001b[0m \u001b[0mpath\u001b[0m \u001b[1;32min\u001b[0m \u001b[0menumerate\u001b[0m\u001b[1;33m(\u001b[0m\u001b[0mfile_dict\u001b[0m\u001b[1;33m[\u001b[0m\u001b[1;34m'path'\u001b[0m\u001b[1;33m]\u001b[0m\u001b[1;33m)\u001b[0m\u001b[1;33m:\u001b[0m\u001b[1;33m\u001b[0m\u001b[0m\n\u001b[0;32m      7\u001b[0m         \u001b[0mimg\u001b[0m \u001b[1;33m=\u001b[0m \u001b[0mnib\u001b[0m\u001b[1;33m.\u001b[0m\u001b[0mload\u001b[0m\u001b[1;33m(\u001b[0m\u001b[0mpath\u001b[0m\u001b[1;33m)\u001b[0m\u001b[1;33m\u001b[0m\u001b[0m\n",
      "\u001b[1;31mNameError\u001b[0m: name 'ref_shape' is not defined"
     ]
    }
   ],
   "source": [
    "network = 3\n",
    "\n",
    "for network in np.arange(12):\n",
    "    print('running network {} now'.format(network))\n",
    "    net_data = np.zeros((ref_shape[:3] + (n_subs,)))\n",
    "    for idx, path in enumerate(file_dict['path']):\n",
    "        img = nib.load(path)\n",
    "        data = img.get_data()\n",
    "        net = data[..., network]\n",
    "        net_data[..., idx] = net\n",
    "    mean_net = np.mean(net_data, axis=3)\n",
    "    std_net = np.std(net_data, axis=3)\n",
    "    if network == 0:\n",
    "        all_mean = mean_net[..., None]\n",
    "        all_std = std_net[..., None]\n",
    "    else:\n",
    "        all_mean = np.concatenate((all_mean, mean_net[..., None]), axis=3)\n",
    "        all_std = np.concatenate((all_std, std_net[..., None]), axis=3)\n",
    "    #out_mean = nib.Nifti1Image(mean_net, pimg.get_affine(), pimg.get_header())\n",
    "    #nib.save(out_mean, os.path.join(out_path, 'mean_{}.nii.gz'.format(network)))\n",
    "    #out_std = nib.Nifti1Image(std_net, pimg.get_affine(), pimg.get_header())\n",
    "    #nib.save(out_std, os.path.join(out_path, 'std_{}.nii.gz'.format(network)))\n",
    "    \n",
    "out_all_mean = nib.Nifti1Image(all_mean, pimg.get_affine(), pimg.get_header())\n",
    "nib.save(out_all_mean, os.path.join(out_path, 'all_mean.nii.gz'))\n",
    "out_all_std = nib.Nifti1Image(all_std, pimg.get_affine(), pimg.get_header())\n",
    "nib.save(out_all_std, os.path.join(out_path, 'all_std.nii.gz'))"
   ]
  },
  {
   "cell_type": "code",
   "execution_count": 111,
   "metadata": {
    "collapsed": false
   },
   "outputs": [
    {
     "name": "stdout",
     "output_type": "stream",
     "text": [
      "running network 3 now\n"
     ]
    }
   ],
   "source": [
    "network = 3\n",
    "\n",
    "print('running network {} now'.format(network))\n",
    "net_data = np.zeros((ref_shape[:3] + (n_subs,)))\n",
    "for idx, path in enumerate(file_dict['path']):\n",
    "    img = nib.load(path)\n",
    "    data = img.get_data()\n",
    "    net = data[..., network]\n",
    "    net_data[..., idx] = net\n",
    "mean_net = np.mean(net_data, axis=3)\n",
    "std_net = np.std(net_data, axis=3)\n",
    "out_mean = nib.Nifti1Image(mean_net, pimg.get_affine(), pimg.get_header())\n",
    "nib.save(out_mean, os.path.join(out_path, 'mean_{}.nii.gz'.format(network)))\n",
    "out_std = nib.Nifti1Image(std_net, pimg.get_affine(), pimg.get_header())\n",
    "nib.save(out_std, os.path.join(out_path, 'std_{}.nii.gz'.format(network)))"
   ]
  },
  {
   "cell_type": "code",
   "execution_count": null,
   "metadata": {
    "collapsed": false
   },
   "outputs": [],
   "source": [
    "# Make the overview"
   ]
  },
  {
   "cell_type": "code",
   "execution_count": 47,
   "metadata": {
    "collapsed": false
   },
   "outputs": [],
   "source": [
    "mean_net = np.mean(net_data, axis=3)\n",
    "std_net = np.std(net_data, axis=3)\n",
    "\n"
   ]
  },
  {
   "cell_type": "markdown",
   "metadata": {},
   "source": [
    "# Visualize "
   ]
  },
  {
   "cell_type": "code",
   "execution_count": 103,
   "metadata": {
    "collapsed": false
   },
   "outputs": [],
   "source": [
    "x = 30\n",
    "y = 30\n",
    "z = 30\n",
    "\n",
    "target = std_net\n",
    "\n",
    "# Get the network in the template\n",
    "tmp = np.zeros_like(pdata)\n",
    "tmp[pdata==network] = 1\n",
    "tmp_x = np.rot90(tmp[x, :, :])\n",
    "tmp_y = np.rot90(tmp[:, y, :])\n",
    "tmp_z = np.rot90(tmp[:, :, z])\n",
    "\n",
    "slc_x = np.rot90(target[x, :, :])\n",
    "slc_y = np.rot90(target[:, y, :])\n",
    "slc_z = np.rot90(target[:, :, z])"
   ]
  },
  {
   "cell_type": "code",
   "execution_count": null,
   "metadata": {
    "collapsed": false
   },
   "outputs": [],
   "source": [
    "x = 30\n",
    "y = 30\n",
    "z = 30\n",
    "\n",
    "target = std_net\n",
    "\n",
    "# Get the network in the template\n",
    "tmp = np.zeros_like(pdata)\n",
    "tmp[pdata==network] = 1\n",
    "tmp_x = np.rot90(tmp[x, :, :])\n",
    "tmp_y = np.rot90(tmp[:, y, :])\n",
    "tmp_z = np.rot90(tmp[:, :, z])\n",
    "\n",
    "slc_x = np.rot90(target[x, :, :])\n",
    "slc_y = np.rot90(target[:, y, :])\n",
    "slc_z = np.rot90(target[:, :, z])\n",
    "\n",
    "f = plt.figure(figsize=(20,10))\n",
    "ax = f.add_subplot(231)\n",
    "ay = f.add_subplot(232)\n",
    "az = f.add_subplot(233)\n",
    "ax.matshow(slc_x)\n",
    "ay.matshow(slc_y)\n",
    "az.matshow(slc_z)\n",
    "\n",
    "tx = f.add_subplot(234)\n",
    "ty = f.add_subplot(235)\n",
    "tz = f.add_subplot(236)\n",
    "#tx.matshow(slc_x, alpha=0.8)\n",
    "#ty.matshow(slc_y, alpha=0.8)\n",
    "#tz.matshow(slc_z, alpha=0.8)\n",
    "tx.matshow(tmp_x, alpha=0.5)\n",
    "ty.matshow(tmp_y, alpha=0.5)\n",
    "tz.matshow(tmp_z, alpha=0.5)\n",
    "\n",
    "f.tight_layout()"
   ]
  },
  {
   "cell_type": "code",
   "execution_count": 94,
   "metadata": {
    "collapsed": false
   },
   "outputs": [
    {
     "data": {
      "text/plain": [
       "(7759,)"
      ]
     },
     "execution_count": 94,
     "metadata": {},
     "output_type": "execute_result"
    }
   ],
   "source": [
    "tmp.shape"
   ]
  },
  {
   "cell_type": "code",
   "execution_count": null,
   "metadata": {
    "collapsed": false
   },
   "outputs": [],
   "source": []
  }
 ],
 "metadata": {
  "kernelspec": {
   "display_name": "Python 2",
   "language": "python",
   "name": "python2"
  },
  "language_info": {
   "codemirror_mode": {
    "name": "ipython",
    "version": 2
   },
   "file_extension": ".py",
   "mimetype": "text/x-python",
   "name": "python",
   "nbconvert_exporter": "python",
   "pygments_lexer": "ipython2",
   "version": "2.7.6"
  }
 },
 "nbformat": 4,
 "nbformat_minor": 0
}
