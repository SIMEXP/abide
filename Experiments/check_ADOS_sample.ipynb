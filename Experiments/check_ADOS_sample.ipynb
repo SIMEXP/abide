{
 "cells": [
  {
   "cell_type": "markdown",
   "metadata": {},
   "source": [
    "# Investigate the ADOS sample\n",
    "- age\n",
    "- site\n",
    "- motion\n",
    "- sex"
   ]
  },
  {
   "cell_type": "code",
   "execution_count": 1,
   "metadata": {
    "collapsed": true
   },
   "outputs": [],
   "source": [
    "import os\n",
    "import numpy as np\n",
    "import pandas as pd\n",
    "from matplotlib import pyplot as plt"
   ]
  },
  {
   "cell_type": "code",
   "execution_count": 2,
   "metadata": {
    "collapsed": true
   },
   "outputs": [],
   "source": [
    "%matplotlib inline"
   ]
  },
  {
   "cell_type": "code",
   "execution_count": 3,
   "metadata": {
    "collapsed": true
   },
   "outputs": [],
   "source": [
    "pheno_path = '/data1/abide/Pheno/full_merged_pheno.csv'"
   ]
  },
  {
   "cell_type": "code",
   "execution_count": 19,
   "metadata": {
    "collapsed": false
   },
   "outputs": [],
   "source": [
    "# Get pheno and drop anything that doesn't have ADOS\n",
    "pheno = pd.read_csv(pheno_path)\n",
    "mask_ados = ~np.isnan(pheno['ADOS_SOCOM_SEV'].values)\n",
    "mask_control = pheno['DX_GROUP'].values == 2\n",
    "ados = pheno[mask_ados]\n",
    "control = pheno[mask_control]"
   ]
  },
  {
   "cell_type": "markdown",
   "metadata": {},
   "source": [
    "## Age and Site distribution"
   ]
  },
  {
   "cell_type": "code",
   "execution_count": 5,
   "metadata": {
    "collapsed": false
   },
   "outputs": [
    {
     "data": {
      "image/png": "[encoded data removed]",
      "text/plain": [
       "<matplotlib.figure.Figure at 0x7f4e8c22f290>"
      ]
     },
     "metadata": {},
     "output_type": "display_data"
    }
   ],
   "source": [
    "# Group by site\n",
    "grouped = ados.groupby('SITE_ID')\n",
    "site_names = grouped.groups.keys()\n",
    "n_sites = len(site_names)\n",
    "\n",
    "all_ages = [grouped.get_group(st)['AGE_AT_SCAN'].values for st in site_names]\n",
    "\n",
    "f = plt.figure(figsize=(10,4))\n",
    "ax = f.add_subplot(111)\n",
    "for idx, ages in enumerate(all_ages):\n",
    "    site_name = site_names[idx]\n",
    "    l_ages = len(ages)\n",
    "    ind = np.ones((l_ages,))*idx+1\n",
    "    jitter = (np.random.random(l_ages,)*2-1)*0.2\n",
    "    ind += jitter\n",
    "    tmp = ax.scatter(ind, ages, s=4)\n",
    "tmp = ax.set_xticks(np.arange(len(all_ages))+1)\n",
    "tmp = ax.set_xticklabels(site_names, rotation=70)\n",
    "tmp = ax.set_xlim([0,len(all_ages)+1])\n",
    "tmp = ax.set_ylabel('age')"
   ]
  },
  {
   "cell_type": "code",
   "execution_count": 14,
   "metadata": {
    "collapsed": true
   },
   "outputs": [],
   "source": [
    "drop_sites = ['MAX_MUN', 'UCLA_2', 'KKI', 'SDSU', 'SBL']\n",
    "keep_sites = ['USM', 'PITT', 'NYU', '']\n",
    "mask_site = [row['SITE_ID'] in keep_sites for index, row in ados.iterrows()]\n",
    "ados_reduced = ados[mask_site]"
   ]
  },
  {
   "cell_type": "code",
   "execution_count": 15,
   "metadata": {
    "collapsed": false
   },
   "outputs": [
    {
     "data": {
      "image/png": "[encoded data removed]",
      "text/plain": [
       "<matplotlib.figure.Figure at 0x7f4e6b5b3e10>"
      ]
     },
     "metadata": {},
     "output_type": "display_data"
    }
   ],
   "source": [
    "# Group by site\n",
    "grouped = ados_reduced.groupby('SITE_ID')\n",
    "site_names = grouped.groups.keys()\n",
    "n_sites = len(site_names)\n",
    "\n",
    "all_ages = [grouped.get_group(st)['AGE_AT_SCAN'].values for st in site_names]\n",
    "\n",
    "f = plt.figure(figsize=(10,4))\n",
    "ax = f.add_subplot(111)\n",
    "for idx, ages in enumerate(all_ages):\n",
    "    site_name = site_names[idx]\n",
    "    l_ages = len(ages)\n",
    "    ind = np.ones((l_ages,))*idx+1\n",
    "    jitter = (np.random.random(l_ages,)*2-1)*0.2\n",
    "    ind += jitter\n",
    "    tmp = ax.scatter(ind, ages, s=4)\n",
    "tmp = ax.set_xticks(np.arange(len(all_ages))+1)\n",
    "tmp = ax.set_xticklabels(site_names, rotation=70)\n",
    "tmp = ax.set_xlim([0,len(all_ages)+1])\n",
    "tmp = ax.set_ylabel('age')"
   ]
  },
  {
   "cell_type": "code",
   "execution_count": 16,
   "metadata": {
    "collapsed": false
   },
   "outputs": [
    {
     "data": {
      "text/plain": [
       "168"
      ]
     },
     "execution_count": 16,
     "metadata": {},
     "output_type": "execute_result"
    }
   ],
   "source": [
    "len(ados_reduced)"
   ]
  },
  {
   "cell_type": "code",
   "execution_count": 9,
   "metadata": {
    "collapsed": false
   },
   "outputs": [
    {
     "data": {
      "text/plain": [
       "Index([u'SITE_ID', u'SUB_ID', u'DX_GROUP', u'DSM_IV_TR', u'AGE_AT_SCAN',\n",
       "       u'SEX', u'HANDEDNESS_CATEGORY', u'HANDEDNESS_SCORES', u'FIQ', u'VIQ',\n",
       "       u'PIQ', u'FIQ_TEST_TYPE', u'VIQ_TEST_TYPE', u'PIQ_TEST_TYPE',\n",
       "       u'ADI_R_SOCIAL_TOTAL_A', u'ADI_R_VERBAL_TOTAL_BV', u'ADI_RRB_TOTAL_C',\n",
       "       u'ADI_R_ONSET_TOTAL_D', u'ADI_R_RSRCH_RELIABLE', u'ADOS_MODULE',\n",
       "       u'ADOS_TOTAL', u'ADOS_COMM', u'ADOS_SOCIAL', u'ADOS_STEREO_BEHAV',\n",
       "       u'ADOS_RSRCH_RELIABLE', u'ADOS_GOTHAM_SOCAFFECT', u'ADOS_GOTHAM_RRB',\n",
       "       u'ADOS_GOTHAM_TOTAL', u'ADOS_GOTHAM_SEVERITY', u'SRS_VERSION',\n",
       "       u'SRS_RAW_TOTAL', u'SRS_AWARENESS', u'SRS_COGNITION',\n",
       "       u'SRS_COMMUNICATION', u'SRS_MOTIVATION', u'SRS_MANNERISMS',\n",
       "       u'SCQ_TOTAL', u'AQ_TOTAL', u'COMORBIDITY', u'CURRENT_MED_STATUS',\n",
       "       u'MEDICATION_NAME', u'OFF_STIMULANTS_AT_SCAN',\n",
       "       u'VINELAND_RECEPTIVE_V_SCALED', u'VINELAND_EXPRESSIVE_V_SCALED',\n",
       "       u'VINELAND_WRITTEN_V_SCALED', u'VINELAND_COMMUNICATION_STANDARD',\n",
       "       u'VINELAND_PERSONAL_V_SCALED', u'VINELAND_DOMESTIC_V_SCALED',\n",
       "       u'VINELAND_COMMUNITY_V_SCALED', u'VINELAND_DAILYLVNG_STANDARD',\n",
       "       u'VINELAND_INTERPERSONAL_V_SCALED', u'VINELAND_PLAY_V_SCALED',\n",
       "       u'VINELAND_COPING_V_SCALED', u'VINELAND_SOCIAL_STANDARD',\n",
       "       u'VINELAND_SUM_SCORES', u'VINELAND_ABC_STANDARD', u'VINELAND_INFORMANT',\n",
       "       u'WISC_IV_VCI', u'WISC_IV_PRI', u'WISC_IV_WMI', u'WISC_IV_PSI',\n",
       "       u'WISC_IV_SIM_SCALED', u'WISC_IV_VOCAB_SCALED', u'WISC_IV_INFO_SCALED',\n",
       "       u'WISC_IV_BLK_DSN_SCALED', u'WISC_IV_PIC_CON_SCALED',\n",
       "       u'WISC_IV_MATRIX_SCALED', u'WISC_IV_DIGIT_SPAN_SCALED',\n",
       "       u'WISC_IV_LET_NUM_SCALED', u'WISC_IV_CODING_SCALED',\n",
       "       u'WISC_IV_SYM_SCALED', u'EYE_STATUS_AT_SCAN', u'AGE_AT_MPRAGE', u'BMI',\n",
       "       u'frames_scrubbed', u'frames_OK', u'FD', u'FD_scrubbed',\n",
       "       u'ADOS_SOCOM_SEV', u'ADOS_STBEH_SEV'],\n",
       "      dtype='object')"
      ]
     },
     "execution_count": 9,
     "metadata": {},
     "output_type": "execute_result"
    }
   ],
   "source": [
    "ados.columns"
   ]
  },
  {
   "cell_type": "code",
   "execution_count": 13,
   "metadata": {
    "collapsed": false
   },
   "outputs": [
    {
     "data": {
      "text/plain": [
       "array([ 6.,  4.,  9.,  6.,  7.,  9.,  9.,  7.,  8.,  5.,  6.,  4.,  8.,\n",
       "        7.,  7.,  7.,  8.,  6.,  4.,  8.,  8.,  7.,  8.,  7.,  3.,  3.,\n",
       "        3.,  4.,  6.,  8.,  9.,  3.,  6.,  5.,  5.,  6.,  3.,  8.,  6.,\n",
       "        9.,  7.,  6.,  7.,  5.,  5.,  7.,  5.,  6.,  8.,  8.,  9.,  9.,\n",
       "        9.,  4.,  7.,  5.,  7.,  2.,  8.,  8.,  9.,  6.,  7.,  5.,  6.,\n",
       "        4.,  4.,  7.,  6.,  4.,  6.,  3.,  6.,  2.,  6.,  7.,  5.,  5.,\n",
       "        6.,  4.,  7.,  8.,  2.,  5.,  8.,  6.,  7.,  5.,  9.,  4.,  6.,\n",
       "        5.,  7.,  8.,  5.,  3.,  3.,  6.,  3.,  7.,  5.,  6.,  7.,  7.,\n",
       "        9.,  9.,  7.,  7.,  9.,  9.,  7.,  6.,  3.,  2.,  4.,  9.,  6.,\n",
       "        6.,  8.,  6.,  9.,  8.,  5.,  7.,  6.,  7.,  8.,  9.,  5.,  7.,\n",
       "        6.,  5.,  4.,  7.,  7.,  7.,  5.,  4.,  4.,  4.,  6.,  6.,  9.,\n",
       "        7.,  2.,  2.,  8.,  4.,  7.,  7.,  7.,  5.,  6.,  8.,  4.,  3.,\n",
       "        6.,  4.,  7.,  7.,  7.,  6.,  7.,  7.,  2.,  1.,  1.,  1.,  1.,\n",
       "        1.,  1.,  1.,  1.,  1.,  1.,  1.,  1.,  1.,  1.,  3.,  1.,  2.,\n",
       "        1.,  1.,  1.,  1.,  1.,  1.,  1.,  2.,  1.,  3.,  1.,  1.,  1.,\n",
       "        6.,  8.,  5.,  5.,  7.,  7.,  9.,  3.,  7.,  8.,  7.,  5.,  7.,\n",
       "        6.,  8.,  8.,  6.,  6.,  7.,  5.,  6.,  8.,  4.,  6.,  7.,  9.,\n",
       "        4.,  5.,  8.,  6.,  7.,  8.,  6.,  7.,  7.,  7.,  4.,  7.,  7.,\n",
       "        8.,  5.])"
      ]
     },
     "execution_count": 13,
     "metadata": {},
     "output_type": "execute_result"
    }
   ],
   "source": [
    "ados['ADOS_SOCOM_SEV'].values"
   ]
  },
  {
   "cell_type": "code",
   "execution_count": 21,
   "metadata": {
    "collapsed": false
   },
   "outputs": [
    {
     "data": {
      "image/png": "[encoded data removed]",
      "text/plain": [
       "<matplotlib.figure.Figure at 0x7f4e6b21d190>"
      ]
     },
     "metadata": {},
     "output_type": "display_data"
    }
   ],
   "source": [
    "# Group by site\n",
    "grouped = control.groupby('SITE_ID')\n",
    "site_names = grouped.groups.keys()\n",
    "n_sites = len(site_names)\n",
    "\n",
    "all_ages = [grouped.get_group(st)['AGE_AT_SCAN'].values for st in site_names]\n",
    "\n",
    "f = plt.figure(figsize=(10,4))\n",
    "ax = f.add_subplot(111)\n",
    "for idx, ages in enumerate(all_ages):\n",
    "    site_name = site_names[idx]\n",
    "    l_ages = len(ages)\n",
    "    ind = np.ones((l_ages,))*idx+1\n",
    "    jitter = (np.random.random(l_ages,)*2-1)*0.2\n",
    "    ind += jitter\n",
    "    tmp = ax.scatter(ind, ages, s=4)\n",
    "tmp = ax.set_xticks(np.arange(len(all_ages))+1)\n",
    "tmp = ax.set_xticklabels(site_names, rotation=70)\n",
    "tmp = ax.set_xlim([0,len(all_ages)+1])\n",
    "tmp = ax.set_ylabel('age')"
   ]
  },
  {
   "cell_type": "code",
   "execution_count": null,
   "metadata": {
    "collapsed": true
   },
   "outputs": [],
   "source": []
  }
 ],
 "metadata": {
  "kernelspec": {
   "display_name": "Python 2",
   "language": "python",
   "name": "python2"
  },
  "language_info": {
   "codemirror_mode": {
    "name": "ipython",
    "version": 2
   },
   "file_extension": ".py",
   "mimetype": "text/x-python",
   "name": "python",
   "nbconvert_exporter": "python",
   "pygments_lexer": "ipython2",
   "version": "2.7.10+"
  }
 },
 "nbformat": 4,
 "nbformat_minor": 0
}
